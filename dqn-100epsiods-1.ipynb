{
 "cells": [
  {
   "cell_type": "markdown",
   "metadata": {},
   "source": [
    "### ***Import Libaries***"
   ]
  },
  {
   "cell_type": "code",
   "execution_count": null,
   "metadata": {
    "_cell_guid": "b1076dfc-b9ad-4769-8c92-a6c4dae69d19",
    "_uuid": "8f2839f25d086af736a60e9eeb907d3b93b6e0e5",
    "execution": {
     "iopub.execute_input": "2025-04-05T04:05:30.851509Z",
     "iopub.status.busy": "2025-04-05T04:05:30.851092Z",
     "iopub.status.idle": "2025-04-05T04:05:30.897015Z",
     "shell.execute_reply": "2025-04-05T04:05:30.895740Z",
     "shell.execute_reply.started": "2025-04-05T04:05:30.851478Z"
    },
    "trusted": true
   },
   "outputs": [],
   "source": [
    "import numpy as np\n",
    "import tensorflow as tf\n",
    "import numpy as np\n",
    "import tkinter as tk\n",
    "import time\n",
    "import random\n",
    "from Fire_Fighter_Env import FireFighterEnv, FireGameUI  \n",
    "import matplotlib.pyplot as plt\n",
    "from Fire_Fighter_Env import FireFighterEnv\n",
    "from DQN_model import DQN"
   ]
  },
  {
   "cell_type": "markdown",
   "metadata": {},
   "source": [
    "### ***Train DQN Model***"
   ]
  },
  {
   "cell_type": "code",
   "execution_count": 6,
   "metadata": {
    "execution": {
     "iopub.execute_input": "2025-04-05T04:05:30.920957Z",
     "iopub.status.busy": "2025-04-05T04:05:30.920643Z",
     "iopub.status.idle": "2025-04-05T05:07:12.395099Z",
     "shell.execute_reply": "2025-04-05T05:07:12.393733Z",
     "shell.execute_reply.started": "2025-04-05T04:05:30.920930Z"
    },
    "trusted": true
   },
   "outputs": [
    {
     "name": "stdout",
     "output_type": "stream",
     "text": [
      "update best weights -1043\n",
      "Episode 0, Total Reward: -1043, Avg Loss: 191.1673583984375\n",
      "update best weights -930\n",
      "Episode 1, Total Reward: -930, Avg Loss: 38.806175231933594\n",
      "Episode 2, Total Reward: -998, Avg Loss: 3.309607982635498\n",
      "Episode 3, Total Reward: -936, Avg Loss: 55.33055877685547\n",
      "update best weights -791\n",
      "Episode 4, Total Reward: -791, Avg Loss: 117.63480377197266\n",
      "Episode 5, Total Reward: -1171, Avg Loss: 179.79632568359375\n",
      "Episode 6, Total Reward: -1142, Avg Loss: 172.31610107421875\n",
      "Episode 7, Total Reward: -1106, Avg Loss: 121.35530090332031\n",
      "Episode 8, Total Reward: -1068, Avg Loss: 187.88253784179688\n",
      "Episode 9, Total Reward: -1160, Avg Loss: 235.57998657226562\n",
      "Episode 10, Total Reward: -987, Avg Loss: 67.78437805175781\n",
      "Episode 11, Total Reward: -1014, Avg Loss: 168.74053955078125\n",
      "Episode 12, Total Reward: -1199, Avg Loss: 103.33888244628906\n",
      "Episode 13, Total Reward: -1321, Avg Loss: 104.874267578125\n",
      "Episode 14, Total Reward: -1035, Avg Loss: 80.39437103271484\n",
      "Episode 15, Total Reward: -1265, Avg Loss: 213.84828186035156\n",
      "Episode 16, Total Reward: -1181, Avg Loss: 44.303775787353516\n",
      "Episode 17, Total Reward: -1133, Avg Loss: 103.07011413574219\n",
      "Episode 18, Total Reward: -1164, Avg Loss: 61.258934020996094\n",
      "Episode 19, Total Reward: -1185, Avg Loss: 71.05187225341797\n",
      "Episode 20, Total Reward: -1062, Avg Loss: 87.40390014648438\n",
      "Episode 21, Total Reward: -1156, Avg Loss: 40.75309371948242\n",
      "Episode 22, Total Reward: -1289, Avg Loss: 156.65460205078125\n",
      "Episode 23, Total Reward: -1142, Avg Loss: 95.52799987792969\n",
      "Episode 24, Total Reward: -1290, Avg Loss: 53.99053955078125\n",
      "Episode 25, Total Reward: -1336, Avg Loss: 76.44161987304688\n",
      "Episode 26, Total Reward: -1193, Avg Loss: 136.86587524414062\n",
      "Episode 27, Total Reward: -1092, Avg Loss: 47.46730422973633\n",
      "Episode 28, Total Reward: -1202, Avg Loss: 37.08036804199219\n",
      "Episode 29, Total Reward: -1319, Avg Loss: 140.0236358642578\n",
      "Episode 30, Total Reward: -1190, Avg Loss: 160.0431671142578\n",
      "Episode 31, Total Reward: -1030, Avg Loss: 146.20193481445312\n",
      "Episode 32, Total Reward: -949, Avg Loss: 78.06362915039062\n",
      "Episode 33, Total Reward: -1367, Avg Loss: 150.32530212402344\n",
      "Episode 34, Total Reward: -1172, Avg Loss: 82.803466796875\n",
      "Episode 35, Total Reward: -1429, Avg Loss: 48.9066047668457\n",
      "Episode 36, Total Reward: -1355, Avg Loss: 52.692413330078125\n",
      "Episode 37, Total Reward: -1451, Avg Loss: 168.70675659179688\n",
      "Episode 38, Total Reward: -1322, Avg Loss: 113.81705474853516\n",
      "Episode 39, Total Reward: -1402, Avg Loss: 133.92132568359375\n",
      "Episode 40, Total Reward: -1435, Avg Loss: 256.61578369140625\n",
      "Episode 41, Total Reward: -1396, Avg Loss: 112.15463256835938\n",
      "Episode 42, Total Reward: -1486, Avg Loss: 148.38851928710938\n",
      "Episode 43, Total Reward: -1402, Avg Loss: 88.63473510742188\n",
      "Episode 44, Total Reward: -1448, Avg Loss: 169.0042266845703\n",
      "Episode 45, Total Reward: -1426, Avg Loss: 117.845458984375\n",
      "Episode 46, Total Reward: -1504, Avg Loss: 187.68814086914062\n",
      "Episode 47, Total Reward: -1434, Avg Loss: 79.15469360351562\n",
      "Episode 48, Total Reward: -1261, Avg Loss: 189.23875427246094\n",
      "Episode 49, Total Reward: -1436, Avg Loss: 80.23519897460938\n",
      "Episode 50, Total Reward: -1020, Avg Loss: 120.20613861083984\n",
      "Episode 51, Total Reward: -1507, Avg Loss: 163.40570068359375\n",
      "Episode 52, Total Reward: -1501, Avg Loss: 42.29372024536133\n",
      "Episode 53, Total Reward: -1422, Avg Loss: 77.36912536621094\n",
      "Episode 54, Total Reward: -1434, Avg Loss: 110.09839630126953\n",
      "Episode 55, Total Reward: -1306, Avg Loss: 86.86094665527344\n",
      "Episode 56, Total Reward: -1328, Avg Loss: 137.244873046875\n",
      "Episode 57, Total Reward: -1498, Avg Loss: 300.45343017578125\n",
      "Episode 58, Total Reward: -1424, Avg Loss: 107.94703674316406\n",
      "Episode 59, Total Reward: -1455, Avg Loss: 102.31983184814453\n",
      "Episode 60, Total Reward: -1388, Avg Loss: 141.3330078125\n",
      "Episode 61, Total Reward: -1457, Avg Loss: 141.2911376953125\n",
      "Episode 62, Total Reward: -1478, Avg Loss: 42.489627838134766\n",
      "Episode 63, Total Reward: -1334, Avg Loss: 70.32904052734375\n",
      "Episode 64, Total Reward: -1324, Avg Loss: 204.2189178466797\n",
      "Episode 65, Total Reward: -1356, Avg Loss: 85.44226837158203\n",
      "Episode 66, Total Reward: -1470, Avg Loss: 22.132831573486328\n",
      "Episode 67, Total Reward: -1504, Avg Loss: 149.1585693359375\n",
      "Episode 68, Total Reward: -1478, Avg Loss: 250.03338623046875\n",
      "Episode 69, Total Reward: -1523, Avg Loss: 110.6809310913086\n",
      "Episode 70, Total Reward: -1292, Avg Loss: 148.39242553710938\n",
      "Episode 71, Total Reward: -1349, Avg Loss: 38.47975158691406\n",
      "Episode 72, Total Reward: -1516, Avg Loss: 110.5632095336914\n",
      "Episode 73, Total Reward: -1553, Avg Loss: 79.17832946777344\n",
      "Episode 74, Total Reward: -1468, Avg Loss: 110.12478637695312\n",
      "Episode 75, Total Reward: -1513, Avg Loss: 108.00343322753906\n",
      "Episode 76, Total Reward: -1522, Avg Loss: 105.30781555175781\n",
      "Episode 77, Total Reward: -1499, Avg Loss: 108.32252502441406\n",
      "Episode 78, Total Reward: -1338, Avg Loss: 259.51922607421875\n",
      "Episode 79, Total Reward: -1358, Avg Loss: 44.749141693115234\n",
      "Episode 80, Total Reward: -1300, Avg Loss: 105.73260498046875\n",
      "Episode 81, Total Reward: -1391, Avg Loss: 76.95774841308594\n",
      "Episode 82, Total Reward: -1564, Avg Loss: 227.52456665039062\n",
      "Episode 83, Total Reward: -1374, Avg Loss: 202.24876403808594\n",
      "Episode 84, Total Reward: -1335, Avg Loss: 131.095458984375\n",
      "Episode 85, Total Reward: -1532, Avg Loss: 199.45362854003906\n",
      "Episode 86, Total Reward: -1465, Avg Loss: 102.6890869140625\n",
      "Episode 87, Total Reward: -1508, Avg Loss: 164.53456115722656\n",
      "Episode 88, Total Reward: -1523, Avg Loss: 170.17135620117188\n",
      "Episode 89, Total Reward: -1556, Avg Loss: 76.08525085449219\n",
      "Episode 90, Total Reward: -1540, Avg Loss: 111.45365905761719\n",
      "Episode 91, Total Reward: -1383, Avg Loss: 46.44215393066406\n",
      "Episode 92, Total Reward: -1521, Avg Loss: 41.98459243774414\n",
      "Episode 93, Total Reward: -1314, Avg Loss: 106.18974304199219\n",
      "Episode 94, Total Reward: -1537, Avg Loss: 171.56607055664062\n",
      "Episode 95, Total Reward: -1553, Avg Loss: 75.39430236816406\n",
      "Episode 96, Total Reward: -1310, Avg Loss: 245.77984619140625\n",
      "Episode 97, Total Reward: -1523, Avg Loss: 8.355520248413086\n",
      "Episode 98, Total Reward: -1576, Avg Loss: 40.83607864379883\n",
      "Episode 99, Total Reward: -1528, Avg Loss: 70.32017517089844\n",
      "best mode is saved as Best_DQN_Model.keras'\n"
     ]
    }
   ],
   "source": [
    "# Initialize environment\n",
    "env = FireFighterEnv()\n",
    "state_size = (env.size[0], env.size[1])\n",
    "action_size = 4\n",
    "\n",
    "# Initialize model\n",
    "num_episodes = 100\n",
    "num_timesteps = 200\n",
    "batch_size = 32\n",
    "dqn = DQN(state_size, action_size, use_cnn=False)\n",
    "\n",
    "# Training variables\n",
    "rewards_history = []\n",
    "time_step = 0\n",
    "\n",
    "for episode in range(num_episodes):\n",
    "    state = env.reset() \n",
    "    # state = state['grid']\n",
    "    total_reward = 0\n",
    "    steps_since_last_train = 0  \n",
    "\n",
    "    for t in range(num_timesteps):\n",
    "        time_step += 1\n",
    "\n",
    "        if time_step % dqn.update_rate == 0:\n",
    "            dqn.update_target_network()\n",
    "        \n",
    "        action = dqn.epsilon_greedy(state)\n",
    "        next_state, reward, done, _ = env.step(action)\n",
    "        # next_state = next_state['grid']\n",
    "        \n",
    "        dqn.store_transition(state, action, reward, next_state, done)\n",
    "        steps_since_last_train += 1  #\n",
    "\n",
    "        # Train after every 32 steps\n",
    "        if steps_since_last_train == batch_size:\n",
    "            dqn.train(batch_size)\n",
    "            steps_since_last_train = 0 \n",
    "\n",
    "        state = next_state\n",
    "        total_reward += reward\n",
    "\n",
    "        if done:\n",
    "            break\n",
    "\n",
    "    dqn.save_best_weights(total_reward)\n",
    "    rewards_history.append(total_reward)\n",
    "    print(f\"Episode {episode}, Total Reward: {total_reward}, Avg Loss: {dqn.loss_history[-1] if dqn.loss_history else 0}\")\n",
    "\n",
    "dqn.save_final_model()\n"
   ]
  },
  {
   "cell_type": "markdown",
   "metadata": {},
   "source": [
    "### ***Show Results***"
   ]
  },
  {
   "cell_type": "code",
   "execution_count": 7,
   "metadata": {
    "execution": {
     "iopub.execute_input": "2025-04-05T05:07:12.396952Z",
     "iopub.status.busy": "2025-04-05T05:07:12.396621Z",
     "iopub.status.idle": "2025-04-05T05:07:12.747371Z",
     "shell.execute_reply": "2025-04-05T05:07:12.745039Z",
     "shell.execute_reply.started": "2025-04-05T05:07:12.396925Z"
    },
    "trusted": true
   },
   "outputs": [
    {
     "data": {
      "image/png": "[encoded data removed]",
      "text/plain": [
       "<Figure size 640x480 with 1 Axes>"
      ]
     },
     "metadata": {},
     "output_type": "display_data"
    }
   ],
   "source": [
    "# Plot training rewards\n",
    "def plot_training(rewards):\n",
    "    plt.plot(rewards, 'b-', label='Total Rewards')\n",
    "    plt.xlabel('Episodes')\n",
    "    plt.ylabel('Total Reward')\n",
    "    plt.title('Training Progress')\n",
    "    plt.legend()\n",
    "    plt.show()\n",
    "\n",
    "plot_training(rewards_history)"
   ]
  },
  {
   "cell_type": "code",
   "execution_count": 8,
   "metadata": {
    "execution": {
     "iopub.execute_input": "2025-04-05T05:07:12.749257Z",
     "iopub.status.busy": "2025-04-05T05:07:12.748765Z",
     "iopub.status.idle": "2025-04-05T05:07:12.756621Z",
     "shell.execute_reply": "2025-04-05T05:07:12.754981Z",
     "shell.execute_reply.started": "2025-04-05T05:07:12.749215Z"
    },
    "trusted": true
   },
   "outputs": [
    {
     "name": "stdout",
     "output_type": "stream",
     "text": [
      "Average Reward: -1327.53 ± 180.28213749564875\n"
     ]
    }
   ],
   "source": [
    "average_reward = np.mean(rewards_history)\n",
    "variance_reward = np.std(rewards_history)\n",
    "\n",
    "print(f\"Average Reward: {average_reward} ± {variance_reward}\")\n"
   ]
  },
  {
   "cell_type": "markdown",
   "metadata": {},
   "source": [
    "### ***Run environment using best DQN weighs***"
   ]
  },
  {
   "cell_type": "code",
   "execution_count": null,
   "metadata": {},
   "outputs": [],
   "source": [
    "model = tf.keras.models.load_model(\"Best_DQN_Model_copy.keras\")\n",
    "\n",
    "env = FireFighterEnv(size=9, fire_spawn_delay=10, max_steps=200)\n",
    "\n",
    "root = tk.Tk()\n",
    "ui = FireGameUI(root, env)\n",
    "\n",
    "state = env.reset()\n",
    "# state = state['grid']\n",
    "done = False\n",
    "\n",
    "\n",
    "epsilon = 0.5\n",
    "\n",
    "def run_episode():\n",
    "    global state, done\n",
    "    if not done:\n",
    "        \n",
    "        if random.uniform(0, 1) < epsilon:\n",
    "            action = random.randint(0, 3)\n",
    "        else:\n",
    "            Q_values = model.predict(np.expand_dims(state, axis=0), verbose=0)\n",
    "            action = np.argmax(Q_values[0])\n",
    "\n",
    "        next_state, reward, done, _ = env.step(action)\n",
    "        # next_state = next_state['grid']\n",
    "\n",
    "        state = next_state\n",
    "        ui.render(action)\n",
    "\n",
    "    \n",
    "    root.after(1000, run_episode)  \n",
    "\n",
    "root.after(0, run_episode)\n",
    "root.mainloop()\n",
    "\n"
   ]
  }
 ],
 "metadata": {
  "kaggle": {
   "accelerator": "none",
   "dataSources": [],
   "dockerImageVersionId": 30919,
   "isGpuEnabled": false,
   "isInternetEnabled": true,
   "language": "python",
   "sourceType": "notebook"
  },
  "kernelspec": {
   "display_name": "Python 3",
   "language": "python",
   "name": "python3"
  },
  "language_info": {
   "codemirror_mode": {
    "name": "ipython",
    "version": 3
   },
   "file_extension": ".py",
   "mimetype": "text/x-python",
   "name": "python",
   "nbconvert_exporter": "python",
   "pygments_lexer": "ipython3",
   "version": "3.10.12"
  }
 },
 "nbformat": 4,
 "nbformat_minor": 4
}
